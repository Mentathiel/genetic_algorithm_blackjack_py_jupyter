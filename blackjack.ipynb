{
 "cells": [
  {
   "cell_type": "code",
   "execution_count": 22,
   "metadata": {},
   "outputs": [],
   "source": [
    "class Genome:\n",
    "    def __init__(self, hit_probability, ace_is_one_probability):\n",
    "        self.hit_probability = hit_probability\n",
    "        self.ace_is_one_probability = ace_is_one_probability\n",
    "        self.fitness = 0\n",
    "    \n",
    "    def __str__(self):\n",
    "        res = \"Hit: \"\n",
    "        for probability in self.hit_probability:\n",
    "            res += str(probability)\n",
    "            res += str(\" \")\n",
    "            \n",
    "        res += \"\\nCount ace as 1: \"\n",
    "        for probability in self.ace_is_one_probability:\n",
    "            res += str(probability)\n",
    "            res += str(\" \")\n",
    "            \n",
    "        return res"
   ]
  },
  {
   "cell_type": "code",
   "execution_count": 23,
   "metadata": {},
   "outputs": [],
   "source": [
    "import random\n",
    "from tqdm import tnrange, tqdm_notebook\n",
    "\n",
    "class GeneticAlgorithm:\n",
    "    def __init__(self, target_score, target_win_rate):\n",
    "        self.target_fitness = target_score * target_win_rate\n",
    "        self.fitness_rounds = 20\n",
    "        self.generation_size = 1000\n",
    "        self.reproducers_size = 200\n",
    "        self.max_iterations = 1000\n",
    "        self.mutation_rate = 0.1\n",
    "        self.tournament_size = 10\n",
    "        self.selection_type = 'roulette' #can be 'tournament' or 'roulette'\n",
    "        \n",
    "    ''' Calculates the sum of cards in hand, picking whether to count aces as 1 or 11\n",
    "        based on a genetically passed down probability.'''\n",
    "    def calculate_player_preferred_sum(self, sum_without_aces, ace_count, ace_is_one_probability):\n",
    "        total_sum = sum_without_aces\n",
    "        while(ace_count>0):\n",
    "            probability = random.randint(0,100)\n",
    "            if(total_sum+11>21):\n",
    "                total_sum += ace_count\n",
    "                break;\n",
    "            elif(probability<ace_is_one_probability[total_sum]):\n",
    "                ace_count -= 1\n",
    "                total_sum += 11\n",
    "            else:\n",
    "                ace_count -= 1\n",
    "                total_sum += 1\n",
    "                \n",
    "        return total_sum\n",
    "     \n",
    "    ''' Simulates one game of Blackjack, returns a tuple (Boolean, int)\n",
    "        containing whether it's a win and what the score was.'''\n",
    "    def get_game_results(self, genome):\n",
    "        hit_probability = genome.hit_probability\n",
    "        ace_is_one_probability = genome.ace_is_one_probability\n",
    "        \n",
    "        ace_count = 0\n",
    "        sum_without_aces = 0\n",
    "        player_preferred_sum = 0\n",
    "        win = False\n",
    "        \n",
    "        #deal starting two cards\n",
    "        for i in range(2):\n",
    "            card = random.randint(1,10)\n",
    "            if(card == 1):\n",
    "                ace_count += 1\n",
    "            else:\n",
    "                sum_without_aces += card\n",
    "            \n",
    "        while sum_without_aces+ace_count<=21:\n",
    "            player_preferred_sum = self.calculate_player_preferred_sum(sum_without_aces, ace_count, ace_is_one_probability)\n",
    "            if player_preferred_sum == 21:\n",
    "                win = True\n",
    "                break\n",
    "            elif player_preferred_sum > 21:\n",
    "                win = False\n",
    "                break\n",
    "            hit = random.randint(1,100)\n",
    "            \n",
    "            if(hit<hit_probability[player_preferred_sum]):\n",
    "                card = random.randint(1,10)\n",
    "                if(card == 1):\n",
    "                    ace_count += 1\n",
    "                else:\n",
    "                    sum_without_aces += card\n",
    "            else:\n",
    "                win = True\n",
    "                break\n",
    "        \n",
    "        return (win, player_preferred_sum)\n",
    "        \n",
    "    ''' Calculates the fitness of a genome, based on its average number\n",
    "        of wins and its average score when winning.'''\n",
    "    def calculate_fitness(self, genome):\n",
    "        wins = 0\n",
    "        total = 0\n",
    "        for i in range(self.fitness_rounds):\n",
    "            game = self.get_game_results(genome)\n",
    "            if game[0]:\n",
    "                wins += 1\n",
    "                total += game[1]\n",
    "        win_rate = wins / self.fitness_rounds\n",
    "        average_score = total / self.fitness_rounds\n",
    "        return int(win_rate*average_score)\n",
    "    \n",
    "    ''' Initializies the first population randomly. '''\n",
    "    def initial_population(self):\n",
    "        init_population = []\n",
    "        \n",
    "        for i in range(self.generation_size):\n",
    "            hit_probability = []\n",
    "            ace_is_one_probability = []\n",
    "            for j in range(21): # note that 0 and 1 are unimportant\n",
    "                hit_probability.append(random.randint(1,100))\n",
    "                ace_is_one_probability.append(random.randint(1,100))\n",
    "            new_speciman = Genome(hit_probability, ace_is_one_probability)\n",
    "            new_speciman.fitness = self.calculate_fitness(new_speciman)\n",
    "            init_population.append(new_speciman)\n",
    "            \n",
    "        return init_population\n",
    "    \n",
    "    ''' Selects genomes for reproduction. '''\n",
    "    def selection(self, genomes):\n",
    "        selected = []\n",
    "        \n",
    "        for i in range(self.reproducers_size):\n",
    "            if self.selection_type == 'roulette':\n",
    "                selected.append(self.roulette_selection(genomes))\n",
    "            elif self.selection_type == 'tournament':\n",
    "                selected.append(self.tournament_selection(genomes))\n",
    "          \n",
    "        return selected\n",
    "    \n",
    "    ''' Slects a genome with the probability equal to its fitness divided\n",
    "        by the overall fitness of the population '''\n",
    "    def roulette_selection(self, population):\n",
    "        total_fitness = sum([genome.fitness for genome in population])\n",
    "        \n",
    "        selected_value = random.randint(0, total_fitness)\n",
    "        \n",
    "        current_sum = 0\n",
    "        for genome in population:\n",
    "            current_sum += genome.fitness\n",
    "            if current_sum > selected_value:\n",
    "                return genome\n",
    "        return random.choice(population)\n",
    "         \n",
    "    ''' Selects the best speciman from a tournament of random \n",
    "        self.tournament_size genomes. '''\n",
    "    def tournament_selection(self, population):\n",
    "        selected = random.sample(population, self.tournament_size)\n",
    "        winner = max(selected, key = lambda x: x.fitness)\n",
    "        return winner\n",
    "    \n",
    "    ''' Mutates a genome with the probability of self.mutation_rate. '''\n",
    "    def mutate(self, hit_probability, ace_is_one_probability):\n",
    "        mutation = random.random()\n",
    "        if mutation > self.mutation_rate:\n",
    "            hit = random.randint(0,20)\n",
    "            hit_probability[hit] = random.randint(1,100)\n",
    "        \n",
    "        mutation = random.random()\n",
    "        if mutation > self.mutation_rate:\n",
    "            ace = random.randint(0,20)\n",
    "            ace_is_one_probability[ace] = random.randint(1,100)\n",
    "            \n",
    "        return (hit_probability, ace_is_one_probability)\n",
    "    \n",
    "    def create_generation(self, population):\n",
    "        generation = []\n",
    "        generation_size = 0\n",
    "        \n",
    "        while generation_size < self.generation_size:\n",
    "            \n",
    "            [parent1, parent2] = random.sample(population, 2)\n",
    "            \n",
    "            child1_code, child2_code = self.crossover(parent1, parent2)\n",
    "            \n",
    "            child1_code = self.mutate(child1_code.hit_probability, child1_code.ace_is_one_probability)\n",
    "            child2_code = self.mutate(child2_code.hit_probability, child2_code.ace_is_one_probability)\n",
    "            \n",
    "            child1 = Genome(child1_code[0], child1_code[1])\n",
    "            child1.fitness = self.calculate_fitness(child1)\n",
    "            child2 = Genome(child2_code[0], child2_code[1])\n",
    "            child2.fitness = self.calculate_fitness(child2)\n",
    "            \n",
    "            generation.append(child1)\n",
    "            generation.append(child2)\n",
    "            \n",
    "            generation_size += 2\n",
    "            \n",
    "        return generation\n",
    "    \n",
    "    \n",
    "    \n",
    "    def crossover(self, parent1, parent2):\n",
    "        child1 = Genome(parent1.hit_probability, parent1.ace_is_one_probability)\n",
    "        child2 = Genome(parent2.hit_probability, parent2.ace_is_one_probability)\n",
    "        \n",
    "        break_point = random.randrange(1, 21)\n",
    "        \n",
    "        child1.hit_probability = parent1.hit_probability[:break_point] + parent2.hit_probability[break_point:]\n",
    "        child2.hit_probability = parent2.hit_probability[:break_point] + parent1.hit_probability[break_point:]\n",
    "        \n",
    "        break_point = random.randrange(1, 21)\n",
    "        child1.ace_is_one_probability = parent1.ace_is_one_probability[:break_point] + parent2.ace_is_one_probability[break_point:]\n",
    "        child2.ace_is_one_probability = parent2.ace_is_one_probability[:break_point] + parent1.ace_is_one_probability[break_point:]\n",
    "        \n",
    "        child1.fitness = self.calculate_fitness(child1)\n",
    "        child2.fitness = self.calculate_fitness(child2)\n",
    "        \n",
    "        return (child1, child2)\n",
    "    \n",
    "    \n",
    "    \n",
    "    def optimize(self):\n",
    "        population = self.initial_population()\n",
    "        \n",
    "        for i in tnrange(self.max_iterations, desc='Generation'):\n",
    "            selected = self.selection(population)\n",
    "            population = self.create_generation(selected)\n",
    "            global_best_genome = max(population, key=lambda x: x.fitness)\n",
    "            #print(global_best_genome)\n",
    "            if global_best_genome.fitness >= self.target_fitness:\n",
    "                break\n",
    "                \n",
    "        return global_best_genome"
   ]
  },
  {
   "cell_type": "code",
   "execution_count": 39,
   "metadata": {},
   "outputs": [
    {
     "data": {
      "application/vnd.jupyter.widget-view+json": {
       "model_id": "2ad1c4560a8542fa82fb7b7606dad386",
       "version_major": 2,
       "version_minor": 0
      },
      "text/plain": [
       "HBox(children=(IntProgress(value=0, description='Generation', max=1000, style=ProgressStyle(description_width=…"
      ]
     },
     "metadata": {},
     "output_type": "display_data"
    },
    {
     "name": "stdout",
     "output_type": "stream",
     "text": [
      "Result:\n",
      "Hit: 36 31 9 66 78 90 57 100 56 43 56 58 49 99 56 87 8 27 7 48 5 \n",
      "Count ace as 1: 91 23 73 80 34 5 30 64 76 54 75 36 74 62 85 78 25 99 38 58 56 \n"
     ]
    }
   ],
   "source": [
    "genetic_algorithm = GeneticAlgorithm(19, 0.9)\n",
    "result = genetic_algorithm.optimize()\n",
    "\n",
    "print('Result:\\n{}'.format(result))"
   ]
  },
  {
   "cell_type": "code",
   "execution_count": 40,
   "metadata": {},
   "outputs": [],
   "source": [
    "def compare_fitness(target_score, target_win_rate, no_of_rounds, printOutput):\n",
    "    genetic_algorithm = GeneticAlgorithm(target_score, target_win_rate)\n",
    "    \n",
    "    alice = genetic_algorithm.optimize()\n",
    "    if printOutput:\n",
    "        print('Result:\\n{}'.format(alice))\n",
    "    bob   = genetic_algorithm.optimize()\n",
    "    if printOutput:\n",
    "        print('Result:\\n{}'.format(bob))\n",
    "    \n",
    "    alice_wins = 0\n",
    "    bob_wins   = 0\n",
    "    \n",
    "    if printOutput:\n",
    "        for i in tnrange(no_of_rounds,desc=\"Simulating Games\"):\n",
    "            game_alice = genetic_algorithm.get_game_results(alice)\n",
    "            game_bob   = genetic_algorithm.get_game_results(bob)\n",
    "\n",
    "            if(game_alice[0] and game_alice[1] > game_bob[1]):\n",
    "                alice_wins += 1\n",
    "            elif(game_bob[0] and game_bob[1] > game_alice[1]):\n",
    "                bob_wins += 1\n",
    "            else:\n",
    "                alice_wins += 0.5\n",
    "                bob_wins += 0.5\n",
    "    else:\n",
    "        for i in range(no_of_rounds):\n",
    "            game_alice = genetic_algorithm.get_game_results(alice)\n",
    "            game_bob   = genetic_algorithm.get_game_results(bob)\n",
    "\n",
    "            if(game_alice[0] and game_alice[1] > game_bob[1]):\n",
    "                alice_wins += 1\n",
    "            elif(game_bob[0] and game_bob[1] > game_alice[1]):\n",
    "                bob_wins += 1\n",
    "            else:\n",
    "                alice_wins += 0.5\n",
    "                bob_wins += 0.5\n",
    "\n",
    "    alice_fitness = alice_wins / no_of_rounds\n",
    "    bob_fitness   = bob_wins / no_of_rounds\n",
    "\n",
    "        \n",
    "    if printOutput:\n",
    "        print(\"alice: {}\\nbob: {}\\n\".format(alice_fitness, bob_fitness))\n",
    "    \n",
    "    return alice_fitness, bob_fitness"
   ]
  },
  {
   "cell_type": "code",
   "execution_count": 41,
   "metadata": {},
   "outputs": [
    {
     "data": {
      "application/vnd.jupyter.widget-view+json": {
       "model_id": "88b1c90b5b3d4ffaa65f935a55dddb8a",
       "version_major": 2,
       "version_minor": 0
      },
      "text/plain": [
       "HBox(children=(IntProgress(value=0, description='Generation', max=1000, style=ProgressStyle(description_width=…"
      ]
     },
     "metadata": {},
     "output_type": "display_data"
    },
    {
     "name": "stdout",
     "output_type": "stream",
     "text": [
      "Result:\n",
      "Hit: 72 89 62 34 55 96 25 64 74 92 26 85 14 81 29 32 23 5 3 1 12 \n",
      "Count ace as 1: 46 78 89 4 11 68 64 40 65 70 44 45 49 71 86 68 97 5 61 99 38 \n"
     ]
    },
    {
     "data": {
      "application/vnd.jupyter.widget-view+json": {
       "model_id": "9129e49622bf44e0b8db81f24617d2ab",
       "version_major": 2,
       "version_minor": 0
      },
      "text/plain": [
       "HBox(children=(IntProgress(value=0, description='Generation', max=1000, style=ProgressStyle(description_width=…"
      ]
     },
     "metadata": {},
     "output_type": "display_data"
    },
    {
     "name": "stdout",
     "output_type": "stream",
     "text": [
      "Result:\n",
      "Hit: 73 100 77 81 38 36 55 90 85 81 50 95 97 67 64 47 4 25 34 9 29 \n",
      "Count ace as 1: 3 78 63 41 29 68 33 74 100 91 62 46 33 81 48 75 70 55 75 22 67 \n"
     ]
    },
    {
     "data": {
      "application/vnd.jupyter.widget-view+json": {
       "model_id": "f216ed6db573482aa1ac713d98f029c1",
       "version_major": 2,
       "version_minor": 0
      },
      "text/plain": [
       "HBox(children=(IntProgress(value=0, description='Simulating Games', max=1000, style=ProgressStyle(description_…"
      ]
     },
     "metadata": {},
     "output_type": "display_data"
    },
    {
     "name": "stdout",
     "output_type": "stream",
     "text": [
      "alice: 0.4845\n",
      "bob: 0.5155\n",
      "\n"
     ]
    },
    {
     "data": {
      "text/plain": [
       "(0.4845, 0.5155)"
      ]
     },
     "execution_count": 41,
     "metadata": {},
     "output_type": "execute_result"
    }
   ],
   "source": [
    "compare_fitness(19,0.9,1000,True)"
   ]
  },
  {
   "cell_type": "code",
   "execution_count": 42,
   "metadata": {},
   "outputs": [],
   "source": [
    "def compare_against_random(target_score, target_win_rate, no_of_optimizations, no_of_rounds):\n",
    "    random_fitness  = 0\n",
    "    evolved_fitness = 0\n",
    "    \n",
    "    for i in tnrange(no_of_optimizations,desc=\"Simulating games\"):\n",
    "        hit_probability = []\n",
    "        ace_is_one_probability = []\n",
    "        for j in range(21): # note that 0 and 1 are unimportant\n",
    "            hit_probability.append(random.randint(1,100))\n",
    "            ace_is_one_probability.append(random.randint(1,100))\n",
    "        random_genome = Genome(hit_probability, ace_is_one_probability)\n",
    "\n",
    "        genetic_algorithm = GeneticAlgorithm(target_score, target_win_rate)\n",
    "        evolved_genome = genetic_algorithm.optimize()\n",
    "\n",
    "        random_wins = 0\n",
    "        evolved_wins = 0\n",
    "        for i in range(no_of_rounds):\n",
    "            game_random  = genetic_algorithm.get_game_results(random_genome)\n",
    "            game_evolved = genetic_algorithm.get_game_results(evolved_genome)\n",
    "\n",
    "            if(game_random[0] and game_random[1] > game_evolved[1]):\n",
    "                random_wins += 1\n",
    "            elif(game_evolved[0] and game_evolved[1] > game_random[1]):\n",
    "                evolved_wins += 1\n",
    "            else:\n",
    "                random_wins += 0.5\n",
    "                evolved_wins += 0.5\n",
    "\n",
    "        random_fitness  += random_wins / no_of_rounds\n",
    "        evolved_fitness += evolved_wins / no_of_rounds\n",
    "        \n",
    "    random_fitness  /= no_of_optimizations\n",
    "    evolved_fitness /= no_of_optimizations\n",
    "    \n",
    "    print(\"random: {}\\nevolved: {}\\n\".format(random_fitness, evolved_fitness))\n",
    "    \n",
    "    return random_fitness, evolved_fitness"
   ]
  },
  {
   "cell_type": "code",
   "execution_count": 43,
   "metadata": {},
   "outputs": [
    {
     "data": {
      "application/vnd.jupyter.widget-view+json": {
       "model_id": "07c514fc891841eaa66523583fe03045",
       "version_major": 2,
       "version_minor": 0
      },
      "text/plain": [
       "HBox(children=(IntProgress(value=0, description='Simulating games', max=12, style=ProgressStyle(description_wi…"
      ]
     },
     "metadata": {},
     "output_type": "display_data"
    },
    {
     "data": {
      "application/vnd.jupyter.widget-view+json": {
       "model_id": "ccdef104e02a4663a58b7fba8f138fcd",
       "version_major": 2,
       "version_minor": 0
      },
      "text/plain": [
       "HBox(children=(IntProgress(value=0, description='Generation', max=1000, style=ProgressStyle(description_width=…"
      ]
     },
     "metadata": {},
     "output_type": "display_data"
    },
    {
     "data": {
      "application/vnd.jupyter.widget-view+json": {
       "model_id": "f258dcce0d87442892c66e2c8cc1cad2",
       "version_major": 2,
       "version_minor": 0
      },
      "text/plain": [
       "HBox(children=(IntProgress(value=0, description='Generation', max=1000, style=ProgressStyle(description_width=…"
      ]
     },
     "metadata": {},
     "output_type": "display_data"
    },
    {
     "data": {
      "application/vnd.jupyter.widget-view+json": {
       "model_id": "cfdd6558900b4d34a97bef9ed4356881",
       "version_major": 2,
       "version_minor": 0
      },
      "text/plain": [
       "HBox(children=(IntProgress(value=0, description='Generation', max=1000, style=ProgressStyle(description_width=…"
      ]
     },
     "metadata": {},
     "output_type": "display_data"
    },
    {
     "data": {
      "application/vnd.jupyter.widget-view+json": {
       "model_id": "22001cc66a48440fa428e5f57c435174",
       "version_major": 2,
       "version_minor": 0
      },
      "text/plain": [
       "HBox(children=(IntProgress(value=0, description='Generation', max=1000, style=ProgressStyle(description_width=…"
      ]
     },
     "metadata": {},
     "output_type": "display_data"
    },
    {
     "data": {
      "application/vnd.jupyter.widget-view+json": {
       "model_id": "1284f1d354864f658b5ddb8f1fb28b90",
       "version_major": 2,
       "version_minor": 0
      },
      "text/plain": [
       "HBox(children=(IntProgress(value=0, description='Generation', max=1000, style=ProgressStyle(description_width=…"
      ]
     },
     "metadata": {},
     "output_type": "display_data"
    },
    {
     "data": {
      "application/vnd.jupyter.widget-view+json": {
       "model_id": "c06cc6cdea6a42a781472be0961920aa",
       "version_major": 2,
       "version_minor": 0
      },
      "text/plain": [
       "HBox(children=(IntProgress(value=0, description='Generation', max=1000, style=ProgressStyle(description_width=…"
      ]
     },
     "metadata": {},
     "output_type": "display_data"
    },
    {
     "data": {
      "application/vnd.jupyter.widget-view+json": {
       "model_id": "ddee85e2249c49d0a294056699854b45",
       "version_major": 2,
       "version_minor": 0
      },
      "text/plain": [
       "HBox(children=(IntProgress(value=0, description='Generation', max=1000, style=ProgressStyle(description_width=…"
      ]
     },
     "metadata": {},
     "output_type": "display_data"
    },
    {
     "data": {
      "application/vnd.jupyter.widget-view+json": {
       "model_id": "88da1b23b34d4b5884d73e4cf40e143d",
       "version_major": 2,
       "version_minor": 0
      },
      "text/plain": [
       "HBox(children=(IntProgress(value=0, description='Generation', max=1000, style=ProgressStyle(description_width=…"
      ]
     },
     "metadata": {},
     "output_type": "display_data"
    },
    {
     "data": {
      "application/vnd.jupyter.widget-view+json": {
       "model_id": "504f62947ea2421faf29f392a19efa2f",
       "version_major": 2,
       "version_minor": 0
      },
      "text/plain": [
       "HBox(children=(IntProgress(value=0, description='Generation', max=1000, style=ProgressStyle(description_width=…"
      ]
     },
     "metadata": {},
     "output_type": "display_data"
    },
    {
     "data": {
      "application/vnd.jupyter.widget-view+json": {
       "model_id": "50d946224c3c4ae2aca7e77ad81c382e",
       "version_major": 2,
       "version_minor": 0
      },
      "text/plain": [
       "HBox(children=(IntProgress(value=0, description='Generation', max=1000, style=ProgressStyle(description_width=…"
      ]
     },
     "metadata": {},
     "output_type": "display_data"
    },
    {
     "data": {
      "application/vnd.jupyter.widget-view+json": {
       "model_id": "683f9ff2bfcb4f31a71df8b352f01e46",
       "version_major": 2,
       "version_minor": 0
      },
      "text/plain": [
       "HBox(children=(IntProgress(value=0, description='Generation', max=1000, style=ProgressStyle(description_width=…"
      ]
     },
     "metadata": {},
     "output_type": "display_data"
    },
    {
     "data": {
      "application/vnd.jupyter.widget-view+json": {
       "model_id": "4787ab24543e407ca8502bf2a3bb01e7",
       "version_major": 2,
       "version_minor": 0
      },
      "text/plain": [
       "HBox(children=(IntProgress(value=0, description='Generation', max=1000, style=ProgressStyle(description_width=…"
      ]
     },
     "metadata": {},
     "output_type": "display_data"
    },
    {
     "name": "stdout",
     "output_type": "stream",
     "text": [
      "random: 0.43758333333333344\n",
      "evolved: 0.5624166666666666\n",
      "\n"
     ]
    }
   ],
   "source": [
    "random_fitness, evolved_fitness = compare_against_random(19, 0.9, 12, 1000)"
   ]
  },
  {
   "cell_type": "code",
   "execution_count": null,
   "metadata": {},
   "outputs": [],
   "source": []
  }
 ],
 "metadata": {
  "kernelspec": {
   "display_name": "Python 3",
   "language": "python",
   "name": "python3"
  },
  "language_info": {
   "codemirror_mode": {
    "name": "ipython",
    "version": 3
   },
   "file_extension": ".py",
   "mimetype": "text/x-python",
   "name": "python",
   "nbconvert_exporter": "python",
   "pygments_lexer": "ipython3",
   "version": "3.7.1rc1"
  }
 },
 "nbformat": 4,
 "nbformat_minor": 1
}
