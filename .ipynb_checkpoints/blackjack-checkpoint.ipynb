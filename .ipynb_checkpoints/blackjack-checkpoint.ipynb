{
 "cells": [
  {
   "cell_type": "code",
   "execution_count": 1,
   "metadata": {},
   "outputs": [],
   "source": [
    "class Genome:\n",
    "    def __init__(self, hit_probability, ace_is_one_probability):\n",
    "        self.hit_probability = hit_probability\n",
    "        self.ace_is_one_probability = ace_is_one_probability\n",
    "        self.fitness = 0\n",
    "    \n",
    "    def __str__(self):\n",
    "        res = \"Hit: \"\n",
    "        for probability in self.hit_probability:\n",
    "            res += str(probability)\n",
    "            res += str(\" \")\n",
    "            \n",
    "        res += \"\\nCount ace as 1: \"\n",
    "        for probability in self.ace_is_one_probability:\n",
    "            res += str(probability)\n",
    "            res += str(\" \")\n",
    "            \n",
    "        return res"
   ]
  },
  {
   "cell_type": "code",
   "execution_count": 2,
   "metadata": {},
   "outputs": [],
   "source": [
    "import random\n",
    "from tqdm import tnrange, tqdm_notebook\n",
    "\n",
    "class GeneticAlgorithm:\n",
    "    def __init__(self, target_fitness):\n",
    "        self.target_fitness = target_fitness\n",
    "        self.fitness_rounds = 10\n",
    "        self.generation_size = 1000\n",
    "        self.reproducers_size = 200\n",
    "        self.max_iterations = 1000\n",
    "        self.mutation_rate = 0.1\n",
    "        self.tournament_size = 10\n",
    "        self.selection_type = 'roulette' #can be 'tournament' or 'roulette'\n",
    "        \n",
    "    ''' Calculates the sum of cards in hand, picking whether to count aces as 1 or 11\n",
    "        based on a genetically passed down probability.'''\n",
    "    def calculate_player_preferred_sum(self, sum_without_aces, ace_count, ace_is_one_probability):\n",
    "        total_sum = sum_without_aces\n",
    "        while(ace_count>0):\n",
    "            probability = random.randint(0,100)\n",
    "            if(total_sum+11>21):\n",
    "                total_sum += ace_count\n",
    "                break;\n",
    "            elif(probability<ace_is_one_probability[total_sum]):\n",
    "                ace_count -= 1\n",
    "                total_sum += 11\n",
    "            else:\n",
    "                ace_count -= 1\n",
    "                total_sum += 1\n",
    "                \n",
    "        return total_sum\n",
    "     \n",
    "    ''' Simulates one game of Blackjack, returns a tuple (Boolean, int)\n",
    "        containing whether it's a win and what the score was.'''\n",
    "    def get_game_results(self, genome):\n",
    "        hit_probability = genome.hit_probability\n",
    "        ace_is_one_probability = genome.ace_is_one_probability\n",
    "        \n",
    "        ace_count = 0\n",
    "        sum_without_aces = 0\n",
    "        player_preferred_sum = 0\n",
    "        win = False\n",
    "        \n",
    "        #deal starting two cards\n",
    "        for i in range(2):\n",
    "            card = random.randint(1,10)\n",
    "            if(card == 1):\n",
    "                ace_count += 1\n",
    "            else:\n",
    "                sum_without_aces += card\n",
    "            \n",
    "        while sum_without_aces+ace_count<=21:\n",
    "            player_preferred_sum = self.calculate_player_preferred_sum(sum_without_aces, ace_count, ace_is_one_probability)\n",
    "            if player_preferred_sum == 21:\n",
    "                win = True\n",
    "                break\n",
    "            elif player_preferred_sum > 21:\n",
    "                win = False\n",
    "                break\n",
    "            hit = random.randint(1,100)\n",
    "            \n",
    "            if(hit<hit_probability[player_preferred_sum]):\n",
    "                card = random.randint(1,10)\n",
    "                if(card == 1):\n",
    "                    ace_count += 1\n",
    "                else:\n",
    "                    sum_without_aces += card\n",
    "            else:\n",
    "                win = True\n",
    "                break\n",
    "        \n",
    "        return (win, player_preferred_sum)\n",
    "        \n",
    "    ''' Calculates the fitness of a genome, based on its average number\n",
    "        of wins and its average score when winning.'''\n",
    "    def calculate_fitness(self, genome):\n",
    "        wins = 0\n",
    "        total = 0\n",
    "        for i in range(self.fitness_rounds):\n",
    "            game = self.get_game_results(genome)\n",
    "            if game[0]:\n",
    "                wins += 1\n",
    "                total += game[1]\n",
    "        win_rate = wins / self.fitness_rounds\n",
    "        average_score = total / self.fitness_rounds\n",
    "        return int(win_rate*average_score)\n",
    "    \n",
    "    ''' Initializies the first population randomly. '''\n",
    "    def initial_population(self):\n",
    "        init_population = []\n",
    "        \n",
    "        for i in range(self.generation_size):\n",
    "            hit_probability = []\n",
    "            ace_is_one_probability = []\n",
    "            for j in range(21): # note that 0 and 1 are unimportant\n",
    "                hit_probability.append(random.randint(1,100))\n",
    "                ace_is_one_probability.append(random.randint(1,100))\n",
    "            new_speciman = Genome(hit_probability, ace_is_one_probability)\n",
    "            new_speciman.fitness = self.calculate_fitness(new_speciman)\n",
    "            init_population.append(new_speciman)\n",
    "            \n",
    "        return init_population\n",
    "    \n",
    "    ''' Selects genomes for reproduction. '''\n",
    "    def selection(self, genomes):\n",
    "        selected = []\n",
    "        \n",
    "        for i in range(self.reproducers_size):\n",
    "            if self.selection_type == 'roulette':\n",
    "                selected.append(self.roulette_selection(genomes))\n",
    "            elif self.selection_type == 'tournament':\n",
    "                selected.append(self.tournament_selection(genomes))\n",
    "          \n",
    "        return selected\n",
    "    \n",
    "    ''' Slects a genome with the probability equal to its fitness divided\n",
    "        by the overall fitness of the population '''\n",
    "    def roulette_selection(self, population):\n",
    "        total_fitness = sum([genome.fitness for genome in population])\n",
    "        \n",
    "        selected_value = random.randint(0, total_fitness)\n",
    "        \n",
    "        current_sum = 0\n",
    "        for genome in population:\n",
    "            current_sum += genome.fitness\n",
    "            if current_sum > selected_value:\n",
    "                return genome\n",
    "        return random.choice(population)\n",
    "         \n",
    "    ''' Selects the best speciman from a tournament of random \n",
    "        self.tournament_size genomes. '''\n",
    "    def tournament_selection(self, population):\n",
    "        selected = random.sample(population, self.tournament_size)\n",
    "        winner = max(selected, key = lambda x: x.fitness)\n",
    "        return winner\n",
    "    \n",
    "    ''' Mutates a genome with the probability of self.mutation_rate. '''\n",
    "    def mutate(self, hit_probability, ace_is_one_probability):\n",
    "        mutation = random.random()\n",
    "        if mutation > self.mutation_rate:\n",
    "            hit = random.randint(0,20)\n",
    "            hit_probability[hit] = random.randint(1,100)\n",
    "        \n",
    "        mutation = random.random()\n",
    "        if mutation > self.mutation_rate:\n",
    "            ace = random.randint(0,20)\n",
    "            ace_is_one_probability[ace] = random.randint(1,100)\n",
    "            \n",
    "        return (hit_probability, ace_is_one_probability)\n",
    "    \n",
    "    def create_generation(self, population):\n",
    "        generation = []\n",
    "        generation_size = 0\n",
    "        \n",
    "        while generation_size < self.generation_size:\n",
    "            \n",
    "            [parent1, parent2] = random.sample(population, 2)\n",
    "            \n",
    "            child1_code, child2_code = self.crossover(parent1, parent2)\n",
    "            \n",
    "            child1_code = self.mutate(child1_code.hit_probability, child1_code.ace_is_one_probability)\n",
    "            child2_code = self.mutate(child2_code.hit_probability, child2_code.ace_is_one_probability)\n",
    "            \n",
    "            child1 = Genome(child1_code[0], child1_code[1])\n",
    "            child1.fitness = self.calculate_fitness(child1)\n",
    "            child2 = Genome(child2_code[0], child2_code[1])\n",
    "            child2.fitness = self.calculate_fitness(child2)\n",
    "            \n",
    "            generation.append(child1)\n",
    "            generation.append(child2)\n",
    "            \n",
    "            generation_size += 2\n",
    "            \n",
    "        return generation\n",
    "    \n",
    "    \n",
    "    \n",
    "    def crossover(self, parent1, parent2):\n",
    "        child1 = Genome(parent1.hit_probability, parent1.ace_is_one_probability)\n",
    "        child2 = Genome(parent2.hit_probability, parent2.ace_is_one_probability)\n",
    "        \n",
    "        break_point = random.randrange(1, 21)\n",
    "        \n",
    "        child1.hit_probability = parent1.hit_probability[:break_point] + parent2.hit_probability[break_point:]\n",
    "        child2.hit_probability = parent2.hit_probability[:break_point] + parent1.hit_probability[break_point:]\n",
    "        \n",
    "        break_point = random.randrange(1, 21)\n",
    "        child1.ace_is_one_probability = parent1.ace_is_one_probability[:break_point] + parent2.ace_is_one_probability[break_point:]\n",
    "        child2.ace_is_one_probability = parent2.ace_is_one_probability[:break_point] + parent1.ace_is_one_probability[break_point:]\n",
    "        \n",
    "        child1.fitness = self.calculate_fitness(child1)\n",
    "        child2.fitness = self.calculate_fitness(child2)\n",
    "        \n",
    "        return (child1, child2)\n",
    "    \n",
    "    \n",
    "    \n",
    "    def optimize(self):\n",
    "        population = self.initial_population()\n",
    "        \n",
    "        for i in tnrange(self.max_iterations, desc='Generation'):\n",
    "            selected = self.selection(population)\n",
    "            population = self.create_generation(selected)\n",
    "            global_best_genome = max(population, key=lambda x: x.fitness)\n",
    "            #print(global_best_genome)\n",
    "            if global_best_genome.fitness >= self.target_fitness:\n",
    "                break\n",
    "                \n",
    "        return global_best_genome"
   ]
  },
  {
   "cell_type": "code",
   "execution_count": 3,
   "metadata": {},
   "outputs": [
    {
     "data": {
      "application/vnd.jupyter.widget-view+json": {
       "model_id": "b10c4d071ee745a3a45944b9dd05140c",
       "version_major": 2,
       "version_minor": 0
      },
      "text/plain": [
       "HBox(children=(IntProgress(value=0, description='Generation', max=1000, style=ProgressStyle(description_width=…"
      ]
     },
     "metadata": {},
     "output_type": "display_data"
    },
    {
     "name": "stdout",
     "output_type": "stream",
     "text": [
      "\n",
      "Result:\n",
      "Hit: 92 20 60 36 40 50 67 79 9 59 56 87 7 37 25 12 2 3 95 30 62 \n",
      "Count ace as 1: 85 87 78 79 88 14 73 99 41 24 91 72 70 89 1 8 70 84 36 25 99 \n"
     ]
    }
   ],
   "source": [
    "genetic_algorithm = GeneticAlgorithm(21)\n",
    "result = genetic_algorithm.optimize()\n",
    "\n",
    "print('Result:\\n{}'.format(result))"
   ]
  },
  {
   "cell_type": "code",
   "execution_count": 4,
   "metadata": {},
   "outputs": [],
   "source": [
    "def compare_fitness(target_fitness, no_of_rounds, printOutput):\n",
    "    genetic_algorithm = GeneticAlgorithm(target_fitness)\n",
    "    \n",
    "    alice = genetic_algorithm.optimize()\n",
    "    if printOutput:\n",
    "        print('Result:\\n{}'.format(alice))\n",
    "    bob   = genetic_algorithm.optimize()\n",
    "    if printOutput:\n",
    "        print('Result:\\n{}'.format(bob))\n",
    "    \n",
    "    alice_wins = 0\n",
    "    bob_wins   = 0\n",
    "    \n",
    "    if printOutput:\n",
    "        for i in tnrange(no_of_rounds,desc=\"Simulating Games\"):\n",
    "            game_alice = genetic_algorithm.get_game_results(alice)\n",
    "            game_bob   = genetic_algorithm.get_game_results(bob)\n",
    "\n",
    "            if(game_alice[0] and game_alice[1] > game_bob[1]):\n",
    "                alice_wins += 1\n",
    "            elif(game_bob[0] and game_bob[1] > game_alice[1]):\n",
    "                bob_wins += 1\n",
    "            else:\n",
    "                alice_wins += 0.5\n",
    "                bob_wins += 0.5\n",
    "    else:\n",
    "        for i in range(no_of_rounds):\n",
    "            game_alice = genetic_algorithm.get_game_results(alice)\n",
    "            game_bob   = genetic_algorithm.get_game_results(bob)\n",
    "\n",
    "            if(game_alice[0] and game_alice[1] > game_bob[1]):\n",
    "                alice_wins += 1\n",
    "            elif(game_bob[0] and game_bob[1] > game_alice[1]):\n",
    "                bob_wins += 1\n",
    "            else:\n",
    "                alice_wins += 0.5\n",
    "                bob_wins += 0.5\n",
    "\n",
    "    alice_fitness = alice_wins / no_of_rounds\n",
    "    bob_fitness   = bob_wins / no_of_rounds\n",
    "\n",
    "        \n",
    "    if printOutput:\n",
    "        print(\"alice: {}\\nbob: {}\\n\".format(alice_fitness, bob_fitness))\n",
    "    \n",
    "    return alice_fitness, bob_fitness"
   ]
  },
  {
   "cell_type": "code",
   "execution_count": 5,
   "metadata": {},
   "outputs": [
    {
     "data": {
      "application/vnd.jupyter.widget-view+json": {
       "model_id": "f51f5b4cf834479faa530ab3a8ee4223",
       "version_major": 2,
       "version_minor": 0
      },
      "text/plain": [
       "HBox(children=(IntProgress(value=0, description='Generation', max=1000, style=ProgressStyle(description_width=…"
      ]
     },
     "metadata": {},
     "output_type": "display_data"
    },
    {
     "name": "stdout",
     "output_type": "stream",
     "text": [
      "\n",
      "Result:\n",
      "Hit: 43 44 90 75 75 84 83 77 94 63 49 64 69 89 59 10 36 24 8 72 81 \n",
      "Count ace as 1: 55 69 27 70 8 85 41 46 94 65 83 100 77 23 73 8 97 1 2 63 90 \n"
     ]
    },
    {
     "data": {
      "application/vnd.jupyter.widget-view+json": {
       "model_id": "b7c16362521749489f3c3f26ce20f8ce",
       "version_major": 2,
       "version_minor": 0
      },
      "text/plain": [
       "HBox(children=(IntProgress(value=0, description='Generation', max=1000, style=ProgressStyle(description_width=…"
      ]
     },
     "metadata": {},
     "output_type": "display_data"
    },
    {
     "name": "stdout",
     "output_type": "stream",
     "text": [
      "\n",
      "Result:\n",
      "Hit: 80 60 35 33 71 28 72 9 73 85 49 32 100 54 46 26 86 34 14 12 3 \n",
      "Count ace as 1: 48 54 37 44 50 86 24 27 93 51 21 39 13 23 21 17 63 69 86 25 92 \n"
     ]
    },
    {
     "data": {
      "application/vnd.jupyter.widget-view+json": {
       "model_id": "0df092ba95474af08ff668ecd12d849a",
       "version_major": 2,
       "version_minor": 0
      },
      "text/plain": [
       "HBox(children=(IntProgress(value=0, description='Simulating Games', max=1000, style=ProgressStyle(description_…"
      ]
     },
     "metadata": {},
     "output_type": "display_data"
    },
    {
     "name": "stdout",
     "output_type": "stream",
     "text": [
      "\n",
      "alice: 0.5515\n",
      "bob: 0.4485\n",
      "\n"
     ]
    },
    {
     "data": {
      "text/plain": [
       "(0.5515, 0.4485)"
      ]
     },
     "execution_count": 5,
     "metadata": {},
     "output_type": "execute_result"
    }
   ],
   "source": [
    "compare_fitness(21,1000,True)"
   ]
  },
  {
   "cell_type": "code",
   "execution_count": 8,
   "metadata": {},
   "outputs": [],
   "source": [
    "def compare_against_random(target_fitness, no_of_optimizations, no_of_rounds):\n",
    "    random_fitness  = 0\n",
    "    evolved_fitness = 0\n",
    "    \n",
    "    for i in tnrange(no_of_optimizations,desc=\"Simulating games\"):\n",
    "        hit_probability = []\n",
    "        ace_is_one_probability = []\n",
    "        for j in range(21): # note that 0 and 1 are unimportant\n",
    "            hit_probability.append(random.randint(1,100))\n",
    "            ace_is_one_probability.append(random.randint(1,100))\n",
    "        random_genome = Genome(hit_probability, ace_is_one_probability)\n",
    "\n",
    "        genetic_algorithm = GeneticAlgorithm(target_fitness)\n",
    "        evolved_genome = genetic_algorithm.optimize()\n",
    "\n",
    "        random_wins = 0\n",
    "        evolved_wins = 0\n",
    "        for i in range(no_of_rounds):\n",
    "            game_random  = genetic_algorithm.get_game_results(random_genome)\n",
    "            game_evolved = genetic_algorithm.get_game_results(evolved_genome)\n",
    "\n",
    "            if(game_random[0] and game_random[1] > game_evolved[1]):\n",
    "                random_wins += 1\n",
    "            elif(game_evolved[0] and game_evolved[1] > game_random[1]):\n",
    "                evolved_wins += 1\n",
    "            else:\n",
    "                random_wins += 0.5\n",
    "                evolved_wins += 0.5\n",
    "\n",
    "        random_fitness  += random_wins / no_of_rounds\n",
    "        evolved_fitness += evolved_wins / no_of_rounds\n",
    "        \n",
    "    random_fitness  /= no_of_optimizations\n",
    "    evolved_fitness /= no_of_optimizations\n",
    "    \n",
    "    print(\"random: {}\\nevolved: {}\\n\".format(random_fitness, evolved_fitness))\n",
    "    \n",
    "    return random_fitness, evolved_fitness"
   ]
  },
  {
   "cell_type": "code",
   "execution_count": 9,
   "metadata": {},
   "outputs": [
    {
     "data": {
      "application/vnd.jupyter.widget-view+json": {
       "model_id": "3e751bab5e104999b4d5d0ad34ca798c",
       "version_major": 2,
       "version_minor": 0
      },
      "text/plain": [
       "HBox(children=(IntProgress(value=0, description='Simulating games', max=12, style=ProgressStyle(description_wi…"
      ]
     },
     "metadata": {},
     "output_type": "display_data"
    },
    {
     "data": {
      "application/vnd.jupyter.widget-view+json": {
       "model_id": "35584417950942409f8ae14aeb84fba5",
       "version_major": 2,
       "version_minor": 0
      },
      "text/plain": [
       "HBox(children=(IntProgress(value=0, description='Generation', max=1000, style=ProgressStyle(description_width=…"
      ]
     },
     "metadata": {},
     "output_type": "display_data"
    },
    {
     "data": {
      "application/vnd.jupyter.widget-view+json": {
       "model_id": "df5623c1c0fc4f16961c016db9e771a4",
       "version_major": 2,
       "version_minor": 0
      },
      "text/plain": [
       "HBox(children=(IntProgress(value=0, description='Generation', max=1000, style=ProgressStyle(description_width=…"
      ]
     },
     "metadata": {},
     "output_type": "display_data"
    },
    {
     "data": {
      "application/vnd.jupyter.widget-view+json": {
       "model_id": "8483f2321ce84c68b401db56129355b0",
       "version_major": 2,
       "version_minor": 0
      },
      "text/plain": [
       "HBox(children=(IntProgress(value=0, description='Generation', max=1000, style=ProgressStyle(description_width=…"
      ]
     },
     "metadata": {},
     "output_type": "display_data"
    },
    {
     "data": {
      "application/vnd.jupyter.widget-view+json": {
       "model_id": "7378c9b41ebe4208bf6f699c0ba5cdcc",
       "version_major": 2,
       "version_minor": 0
      },
      "text/plain": [
       "HBox(children=(IntProgress(value=0, description='Generation', max=1000, style=ProgressStyle(description_width=…"
      ]
     },
     "metadata": {},
     "output_type": "display_data"
    },
    {
     "data": {
      "application/vnd.jupyter.widget-view+json": {
       "model_id": "7b27f2cd05fb48579122bed27e9d06a9",
       "version_major": 2,
       "version_minor": 0
      },
      "text/plain": [
       "HBox(children=(IntProgress(value=0, description='Generation', max=1000, style=ProgressStyle(description_width=…"
      ]
     },
     "metadata": {},
     "output_type": "display_data"
    },
    {
     "data": {
      "application/vnd.jupyter.widget-view+json": {
       "model_id": "04d22b8506194e9d8798d1878d1f23e4",
       "version_major": 2,
       "version_minor": 0
      },
      "text/plain": [
       "HBox(children=(IntProgress(value=0, description='Generation', max=1000, style=ProgressStyle(description_width=…"
      ]
     },
     "metadata": {},
     "output_type": "display_data"
    },
    {
     "data": {
      "application/vnd.jupyter.widget-view+json": {
       "model_id": "a2bde488f298417b8917dffe4ff25bfc",
       "version_major": 2,
       "version_minor": 0
      },
      "text/plain": [
       "HBox(children=(IntProgress(value=0, description='Generation', max=1000, style=ProgressStyle(description_width=…"
      ]
     },
     "metadata": {},
     "output_type": "display_data"
    },
    {
     "data": {
      "application/vnd.jupyter.widget-view+json": {
       "model_id": "96b61fe37c6e47eab4a1fef4849032ff",
       "version_major": 2,
       "version_minor": 0
      },
      "text/plain": [
       "HBox(children=(IntProgress(value=0, description='Generation', max=1000, style=ProgressStyle(description_width=…"
      ]
     },
     "metadata": {},
     "output_type": "display_data"
    },
    {
     "data": {
      "application/vnd.jupyter.widget-view+json": {
       "model_id": "ab2047e4807d44e28f7076b43bdaaae7",
       "version_major": 2,
       "version_minor": 0
      },
      "text/plain": [
       "HBox(children=(IntProgress(value=0, description='Generation', max=1000, style=ProgressStyle(description_width=…"
      ]
     },
     "metadata": {},
     "output_type": "display_data"
    },
    {
     "data": {
      "application/vnd.jupyter.widget-view+json": {
       "model_id": "025379be81cd4c9ba9c048c5949b8b5b",
       "version_major": 2,
       "version_minor": 0
      },
      "text/plain": [
       "HBox(children=(IntProgress(value=0, description='Generation', max=1000, style=ProgressStyle(description_width=…"
      ]
     },
     "metadata": {},
     "output_type": "display_data"
    },
    {
     "data": {
      "application/vnd.jupyter.widget-view+json": {
       "model_id": "65b5b45180574e1c92456a5687b8daf9",
       "version_major": 2,
       "version_minor": 0
      },
      "text/plain": [
       "HBox(children=(IntProgress(value=0, description='Generation', max=1000, style=ProgressStyle(description_width=…"
      ]
     },
     "metadata": {},
     "output_type": "display_data"
    },
    {
     "data": {
      "application/vnd.jupyter.widget-view+json": {
       "model_id": "3780fdd28a07410cbc0a7e4ef09c0361",
       "version_major": 2,
       "version_minor": 0
      },
      "text/plain": [
       "HBox(children=(IntProgress(value=0, description='Generation', max=1000, style=ProgressStyle(description_width=…"
      ]
     },
     "metadata": {},
     "output_type": "display_data"
    },
    {
     "name": "stdout",
     "output_type": "stream",
     "text": [
      "random: 0.4500833333333332\n",
      "evolved: 0.5499166666666667\n",
      "\n"
     ]
    }
   ],
   "source": [
    "random_fitness, evolved_fitness = compare_against_random(21, 12, 1000)"
   ]
  },
  {
   "cell_type": "code",
   "execution_count": null,
   "metadata": {},
   "outputs": [],
   "source": []
  }
 ],
 "metadata": {
  "kernelspec": {
   "display_name": "Python 3",
   "language": "python",
   "name": "python3"
  },
  "language_info": {
   "codemirror_mode": {
    "name": "ipython",
    "version": 3
   },
   "file_extension": ".py",
   "mimetype": "text/x-python",
   "name": "python",
   "nbconvert_exporter": "python",
   "pygments_lexer": "ipython3",
   "version": "3.7.1rc1"
  }
 },
 "nbformat": 4,
 "nbformat_minor": 1
}
